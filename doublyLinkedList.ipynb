{
 "cells": [
  {
   "cell_type": "code",
   "id": "initial_id",
   "metadata": {
    "collapsed": true,
    "ExecuteTime": {
     "end_time": "2025-01-31T20:40:35.920171Z",
     "start_time": "2025-01-31T20:40:35.915277Z"
    }
   },
   "source": [
    "from debugpy.common.timestamp import current\n",
    "class Node:\n",
    "\n",
    "    def __init__(self, data, next_none = None, prev_node = None):\n",
    "        self.data = data\n",
    "        self.next_node = next_none\n",
    "        self.prev_none = prev_node\n",
    "\n",
    "    def set_next_node(self, next_none):\n",
    "        self.next_node = next_none\n",
    "\n",
    "    def get_next_node(self):\n",
    "        return self.next_node\n",
    "\n",
    "    def set_prev_node(self, prev_node):\n",
    "        self.prev_none = prev_node\n",
    "\n",
    "    def get_prev_node(self):\n",
    "        return self.prev_none\n",
    "\n",
    "    def get_value(self):\n",
    "        return self.data\n",
    "\n",
    "\n",
    "\n"
   ],
   "outputs": [],
   "execution_count": 2
  },
  {
   "metadata": {
    "ExecuteTime": {
     "end_time": "2025-01-31T21:40:01.446665Z",
     "start_time": "2025-01-31T21:40:01.440442Z"
    }
   },
   "cell_type": "code",
   "source": [
    "class doubleLinkedList:\n",
    "\n",
    "    def __init__(self):\n",
    "        self.head_node = None\n",
    "        self.tail_node = None\n",
    "\n",
    "    def add_to_tail(self, new_data):\n",
    "        new_tail = Node(new_data)\n",
    "        current_tail = self.tail_node\n",
    "\n",
    "        if current_tail != new_tail:\n",
    "            current_tail.set_next_node(new_tail)\n",
    "            new_tail.set_prev_node(current_tail)\n",
    "\n",
    "        self.tail_node = new_tail\n",
    "\n",
    "        if self.tail_node == None:\n",
    "            self.tail_node = new_tail\n",
    "\n",
    "    def add_to_head(self, new_data):\n",
    "        new_head = Node(new_data)\n",
    "        current_head = self.head_node\n",
    "\n",
    "        if current_head != new_head:\n",
    "            current_head.set_next_node(new_head)\n",
    "            new_head.prev_none(current_head)\n",
    "\n",
    "        self.head_node = new_head\n",
    "\n",
    "        if self.head_node == None:\n",
    "            self.head_node = new_head\n",
    "\n",
    "\n",
    "    def remove_head(self):\n",
    "        removed_head = self.head_node\n",
    "\n",
    "        if removed_head == None:\n",
    "            return None\n",
    "\n",
    "        if self.head_node != None:\n",
    "            self.head_node.set_prev_node(None)\n",
    "\n",
    "        if removed_head == self.tail_node:\n",
    "            self.remove_tail()\n",
    "\n",
    "        return removed_head.get_value()\n",
    "\n",
    "    def remove_tail(self):\n",
    "        removed_tail = self.tail_node\n",
    "\n",
    "        \n",
    "\n"
   ],
   "id": "d645a5626de78c7f",
   "outputs": [],
   "execution_count": 3
  }
 ],
 "metadata": {
  "kernelspec": {
   "display_name": "Python 3",
   "language": "python",
   "name": "python3"
  },
  "language_info": {
   "codemirror_mode": {
    "name": "ipython",
    "version": 2
   },
   "file_extension": ".py",
   "mimetype": "text/x-python",
   "name": "python",
   "nbconvert_exporter": "python",
   "pygments_lexer": "ipython2",
   "version": "2.7.6"
  }
 },
 "nbformat": 4,
 "nbformat_minor": 5
}
