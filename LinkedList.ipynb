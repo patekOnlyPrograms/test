{
 "cells": [
  {
   "cell_type": "code",
   "id": "initial_id",
   "metadata": {
    "collapsed": true,
    "ExecuteTime": {
     "end_time": "2025-01-24T18:39:51.016651Z",
     "start_time": "2025-01-24T18:39:50.989823Z"
    }
   },
   "source": [
    "class Node:\n",
    "    def __init__(self, data):\n",
    "        self.data = data #Assigns given data to the node\n",
    "        self.next = None #Initialize the next attribute to null\n",
    "\n",
    "class LinkedList:\n",
    "    def __init__(self):\n",
    "        self.head = None #Initialize head as None\n",
    "\n",
    "    def insertAtBeginning(self, new_data):\n",
    "        new_node = Node(new_data) #Create new node\n",
    "        new_node.next = self.head #next for the new node becomes the current head\n",
    "        self.head = new_node #\n",
    "\n",
    "    def printList(self):\n",
    "        temp = self.head #Start from the head of the list\n",
    "        while temp:\n",
    "            print(temp.data, end=' ')#print the data in the current node\n",
    "            temp = temp.next #move to the next node\n",
    "        print()#Ensures the output is followed by a new line\n",
    "\n",
    "    def insertAtEnd(self, new_data):\n",
    "        new_node = Node(new_data)\n",
    "        if self.head is None:\n",
    "            self.head = new_node\n",
    "            return\n",
    "        last = self.head\n",
    "        while last.next:\n",
    "            last = last.next\n",
    "        last.next = new_node\n",
    "\n",
    "    def deleteFromEnd(self):\n",
    "        if self.head is None:\n",
    "            return \"The list is empty\"\n",
    "        if self.head.next is None:\n",
    "            self.head = None\n",
    "            return\n",
    "        temp = self.head\n",
    "        while temp.next.next:\n",
    "            temp = temp.next\n",
    "        temp.next = None\n",
    "\n",
    "\n",
    "    def search(self, value):\n",
    "        current = self.head\n",
    "        position = 0\n",
    "        while current:\n",
    "            if current.data == value:\n",
    "                return f\"Value: '{value}' found at position '{position}'\"\n",
    "            current = current.next\n",
    "            position += 1\n",
    "        return f\"Value '{value}' not found in the list\"\n"
   ],
   "outputs": [],
   "execution_count": 16
  },
  {
   "metadata": {
    "ExecuteTime": {
     "end_time": "2025-01-24T18:39:53.954426Z",
     "start_time": "2025-01-24T18:39:53.939244Z"
    }
   },
   "cell_type": "code",
   "source": [
    "if __name__ == '__main__':\n",
    "    linkedList = LinkedList()\n",
    "\n",
    "    linkedList.insertAtBeginning('fox')\n",
    "    linkedList.insertAtBeginning('brown')\n",
    "    linkedList.insertAtBeginning('quick')\n",
    "    linkedList.insertAtBeginning('the')\n",
    "\n",
    "    linkedList.insertAtEnd('jumps')\n",
    "\n",
    "    linkedList.printList()\n",
    "\n",
    "    print(linkedList.search('quick'))"
   ],
   "id": "62a3ddbc69a69bac",
   "outputs": [
    {
     "name": "stdout",
     "output_type": "stream",
     "text": [
      "the quick brown fox jumps \n",
      "Value: 'quick' found at position '1'\n"
     ]
    }
   ],
   "execution_count": 17
  },
  {
   "metadata": {},
   "cell_type": "code",
   "outputs": [],
   "execution_count": null,
   "source": "",
   "id": "13a247fc959c01e9"
  }
 ],
 "metadata": {
  "kernelspec": {
   "display_name": "Python 3",
   "language": "python",
   "name": "python3"
  },
  "language_info": {
   "codemirror_mode": {
    "name": "ipython",
    "version": 2
   },
   "file_extension": ".py",
   "mimetype": "text/x-python",
   "name": "python",
   "nbconvert_exporter": "python",
   "pygments_lexer": "ipython2",
   "version": "2.7.6"
  }
 },
 "nbformat": 4,
 "nbformat_minor": 5
}
